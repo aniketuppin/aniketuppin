{
 "cells": [
  {
   "cell_type": "code",
   "execution_count": 2,
   "id": "9ab7ccca",
   "metadata": {},
   "outputs": [],
   "source": [
    "import numpy as np\n"
   ]
  },
  {
   "cell_type": "code",
   "execution_count": 4,
   "id": "0b5d1062",
   "metadata": {},
   "outputs": [
    {
     "name": "stdout",
     "output_type": "stream",
     "text": [
      "(15,)\n"
     ]
    }
   ],
   "source": [
    "y_pred=np.array([0.99,0,0,0.99,0,0,0.99,0.99,0.99,0,0.99,0.99,0,0.99,0.99])\n",
    "y_true=np.array([1,1,0,1,0,0,1,0,0,0,1,1,0,0,1])\n",
    "y_pred=np.expand_dims(y_pred,axis=-1)\n",
    "y_true=np.expand_dims(y_true,axis=-1)"
   ]
  },
  {
   "cell_type": "code",
   "execution_count": 16,
   "id": "85cd3b0b",
   "metadata": {},
   "outputs": [],
   "source": [
    "#x=y_pred\n",
    "def tp(x,y):\n",
    "    count=0\n",
    "    for i in range(x.shape[0]):\n",
    "        count+=(x[i]==0.99 and y[i]==1)\n",
    "    return count\n",
    "def fp(x,y):\n",
    "    count=0\n",
    "    for i in range(x.shape[0]):\n",
    "        count+=(x[i]==0.99 and y[i]==0)\n",
    "    return count\n",
    "def fn(x,y):\n",
    "    count=0\n",
    "    for i in range(x.shape[0]):\n",
    "        count+=(x[i]==0 and y[i]==1)\n",
    "    return count\n",
    "def tn(x,y):\n",
    "    count=0\n",
    "    for i in range(x.shape[0]):\n",
    "        count+=(x[i]==0 and y[i]==0)\n",
    "    return count"
   ]
  },
  {
   "cell_type": "code",
   "execution_count": 17,
   "id": "be17bee4",
   "metadata": {},
   "outputs": [],
   "source": [
    "TP=tp(y_pred,y_true)\n",
    "TN=tn(y_pred,y_true)\n",
    "FP=fp(y_pred,y_true)\n",
    "FN=fn(y_pred,y_true)"
   ]
  },
  {
   "cell_type": "code",
   "execution_count": 18,
   "id": "1f0f8e9f",
   "metadata": {},
   "outputs": [],
   "source": [
    "confusion_matrix=np.array([[TP,FP],[FN,TN]])"
   ]
  },
  {
   "cell_type": "code",
   "execution_count": 19,
   "id": "38e3f144",
   "metadata": {},
   "outputs": [
    {
     "data": {
      "text/plain": [
       "array([[6, 3],\n",
       "       [1, 5]])"
      ]
     },
     "execution_count": 19,
     "metadata": {},
     "output_type": "execute_result"
    }
   ],
   "source": [
    "confusion_matrix\n"
   ]
  },
  {
   "cell_type": "code",
   "execution_count": 22,
   "id": "3ea50b23",
   "metadata": {},
   "outputs": [],
   "source": [
    "def precision(TP,FP,FN,TN):\n",
    "    return (TP)/(TP+FP)\n",
    "def accuracy(TP,FP,FN,TN):\n",
    "    return (TP+TN)/(TP+TN+FP+FN)\n",
    "def recall(TP,FP,FN,TN):\n",
    "    return (TP)/(TP+FN)\n",
    "def F1(pre,rec):\n",
    "    return (2*pre*rec)/(pre+rec)"
   ]
  },
  {
   "cell_type": "code",
   "execution_count": 24,
   "id": "5db883fc",
   "metadata": {},
   "outputs": [
    {
     "name": "stdout",
     "output_type": "stream",
     "text": [
      "precison: 0.6666666666666666\n",
      "recall:  0.8571428571428571\n",
      "accuracy: 0.7333333333333333\n",
      "F1: 0.75\n"
     ]
    }
   ],
   "source": [
    "print(\"precison:\",precision(TP,FP,FN,TN))\n",
    "print(\"recall: \",recall(TP,FP,FN,TN))\n",
    "print(\"accuracy:\",accuracy(TP,FP,FN,TN))\n",
    "print(\"F1:\",F1(precision(TP,FP,FN,TN),recall(TP,FP,FN,TN)))"
   ]
  },
  {
   "cell_type": "code",
   "execution_count": 3,
   "id": "f486d0dc",
   "metadata": {},
   "outputs": [
    {
     "name": "stdout",
     "output_type": "stream",
     "text": [
      "bce loss : 0.15752577387433558\n"
     ]
    }
   ],
   "source": [
    "Y_pred=np.array([0.99,10**-7,10**-7,0.99,10**-7,10**-7,0.99,0.99,0.99,10**-7,0.99,0.99,10**-7,0.99,0.99])\n",
    "Y_true=np.array([1,1,0,1,0,0,1,0,0,0,1,1,0,0,1])\n",
    "def bce_loss(y_pred,y_true):\n",
    "    loss= (1/len(y_pred))*np.sum(-(y_true*np.log(y_pred) - (1-y_true)*np.log(1-y_pred)))\n",
    "    return loss\n",
    "print(\"bce loss :\",bce_loss(Y_pred,Y_true))"
   ]
  },
  {
   "cell_type": "code",
   "execution_count": null,
   "id": "f2197923",
   "metadata": {},
   "outputs": [],
   "source": []
  },
  {
   "cell_type": "code",
   "execution_count": 31,
   "id": "edd28067",
   "metadata": {},
   "outputs": [
    {
     "name": "stdout",
     "output_type": "stream",
     "text": [
      "[[4 1]\n",
      " [2 8]\n",
      " [1 0]\n",
      " [3 2]\n",
      " [1 4]\n",
      " [6 7]]\n",
      "(6, 1)\n"
     ]
    },
    {
     "data": {
      "text/plain": [
       "(6, 2)"
      ]
     },
     "execution_count": 31,
     "metadata": {},
     "output_type": "execute_result"
    }
   ],
   "source": [
    "x=np.array([[4,2,1,3,1,6],[1,8,0,2,4,7]])\n",
    "x=x.T\n",
    "print(x)\n",
    "#x2=np.array([1,8,0,2,4,7])\n",
    "y=np.array([2,-14,1,-1,-7,-8])\n",
    "y=np.expand_dims(y,axis=-1)\n",
    "print(y.shape)\n",
    "x.shape"
   ]
  },
  {
   "cell_type": "code",
   "execution_count": 58,
   "id": "000e71a2",
   "metadata": {},
   "outputs": [],
   "source": [
    "def initialise_param(x):\n",
    "    w=np.random.rand(1,x.shape[1])\n",
    "    b=np.random.rand(1,1)\n",
    "    print('w',w.shape)\n",
    "    return w,b\n",
    "def forward_path(w,x,b):\n",
    "    y= np.matmul(w,x.T) + b\n",
    "    #print('y_predd',y.shape)\n",
    "    return y\n",
    "def loss_function(x,y,y_pred):\n",
    "    loss = np.mean((y_pred-y)**2)\n",
    "    return loss\n",
    "\n",
    "def gradient_descent(y,y_pred,x):\n",
    "    \n",
    "    #y_pred= np.reshape(y_pred,(y.shape[0],1))\n",
    "    derv = 2*(y_pred-y)\n",
    "    #print('derv',derv.shape)\n",
    "    dw=(derv * x)\n",
    "    db= np.sum(b)\n",
    "    return dw,db\n",
    "\n",
    "def param_update(w,dw,b,db,alpha):\n",
    "    w= w - (alpha*dw)\n",
    "    b= b - (alpha*db)\n",
    "    \n",
    "    return w,b"
   ]
  },
  {
   "cell_type": "code",
   "execution_count": 54,
   "id": "6568edac",
   "metadata": {},
   "outputs": [
    {
     "name": "stdout",
     "output_type": "stream",
     "text": [
      "w (1, 2)\n",
      "[[0.55935489 0.83235486]] [[0.33497206]]\n"
     ]
    }
   ],
   "source": [
    "w,b= initialise_param(x)\n",
    "print(w,b)"
   ]
  },
  {
   "cell_type": "code",
   "execution_count": 60,
   "id": "536e7e33",
   "metadata": {},
   "outputs": [
    {
     "name": "stdout",
     "output_type": "stream",
     "text": [
      "6\n"
     ]
    }
   ],
   "source": [
    "print(len(x))"
   ]
  },
  {
   "cell_type": "code",
   "execution_count": 61,
   "id": "01e24d33",
   "metadata": {},
   "outputs": [
    {
     "name": "stdout",
     "output_type": "stream",
     "text": [
      "trained weights  [[ 0.99371336 -1.99854946]] [[0.18328219]]\n"
     ]
    }
   ],
   "source": [
    "alpha=10**-2\n",
    "epochs=10\n",
    "cost=[]\n",
    "for i in range(epochs):\n",
    "    loss=0\n",
    "    for j in range(len(x)):\n",
    "        y_pred= forward_path(w,x[j],b)\n",
    "        #print(\"y_pred\",y_pred.shape)\n",
    "        loss+=loss_function(x[j],y[j],y_pred)\n",
    "        dw,db= gradient_descent(y[j],y_pred,x[j])\n",
    "        w,b=param_update(w,dw,b,db,alpha)\n",
    "    cost.append(loss/len(x))\n",
    "print(\"trained weights \",w,b)\n"
   ]
  },
  {
   "cell_type": "code",
   "execution_count": 62,
   "id": "5f307b47",
   "metadata": {},
   "outputs": [
    {
     "name": "stderr",
     "output_type": "stream",
     "text": [
      "'pwd' is not recognized as an internal or external command,\n",
      "operable program or batch file.\n"
     ]
    }
   ],
   "source": []
  },
  {
   "cell_type": "code",
   "execution_count": null,
   "id": "9f585308",
   "metadata": {},
   "outputs": [],
   "source": []
  }
 ],
 "metadata": {
  "kernelspec": {
   "display_name": "Python 3",
   "language": "python",
   "name": "python3"
  },
  "language_info": {
   "codemirror_mode": {
    "name": "ipython",
    "version": 3
   },
   "file_extension": ".py",
   "mimetype": "text/x-python",
   "name": "python",
   "nbconvert_exporter": "python",
   "pygments_lexer": "ipython3",
   "version": "3.8.8"
  }
 },
 "nbformat": 4,
 "nbformat_minor": 5
}
