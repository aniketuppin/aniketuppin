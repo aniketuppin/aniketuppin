{
 "cells": [
  {
   "cell_type": "code",
   "execution_count": 1,
   "id": "e6cad2de",
   "metadata": {},
   "outputs": [],
   "source": [
    "from tensorflow import keras\n",
    "import pandas as pd\n",
    "import numpy as np\n",
    "import matplotlib.pyplot as plt\n",
    "import tensorflow as tf\n",
    "import tifffile as tiff"
   ]
  },
  {
   "cell_type": "code",
   "execution_count": 2,
   "id": "795f9c49",
   "metadata": {},
   "outputs": [
    {
     "name": "stdout",
     "output_type": "stream",
     "text": [
      "(0,)\n",
      "(0,)\n",
      "(0,)\n",
      "(0,)\n"
     ]
    }
   ],
   "source": [
    "import glob\n",
    "import numpy as np\n",
    "def get_dataset(X1_dir, X2_dir,Y_dir):\n",
    "    ms_pan=[]\n",
    "    gt=[]\n",
    "    ms_pan_t = []\n",
    "    gt_t = []\n",
    "    for d in range(len(X1_dir)):\n",
    "        ms1 = tiff.imread(X1_dir[d])\n",
    "        pan= tiff.imread(X2_dir[d])\n",
    "        gt1 = tiff.imread(Y_dir[d])\n",
    "        # print(ms1.shape,pan.shape,gt1.shape)\n",
    "\n",
    "\n",
    "        pan=np.expand_dims(pan,axis=-1)\n",
    "        m,n,c=ms1.shape\n",
    "        M,N,C=pan.shape\n",
    "\n",
    "        pan_lr= downsample_bicubic(pan,4)\n",
    "        ms_lr=downsample_bicubic(ms1,4)\n",
    "        # print(ms_lr.shape)\n",
    "        pan_lr=np.expand_dims(pan_lr,axis=-1)\n",
    "        u_ms=upsample_bicubic(ms_lr,4)\n",
    "        # print(pan_lr.shape)\n",
    "        # print(u_ms.shape)\n",
    "        up_ch= np.concatenate((pan_lr,u_ms),axis=-1)\n",
    "        up_ch= np.expand_dims(up_ch,axis=0)\n",
    "\n",
    "\n",
    "        patch_size=64; overlap=32\n",
    "        x_train=tf.image.extract_patches(images=up_ch,sizes=(1,patch_size,patch_size,1),strides=(1,overlap,overlap,1),rates=(1,1,1,1),padding='VALID')\n",
    "        x_train=np.reshape(x_train,(-1,patch_size,patch_size,5))\n",
    "        x_train=x_train.astype('float32')\n",
    "        # print(x_train.shape)\n",
    "\n",
    "        y_train=np.expand_dims(gt1,axis=0)\n",
    "        y_train=tf.image.extract_patches(images=y_train,sizes=(1,patch_size,patch_size,1),strides=(1,overlap,overlap,1),rates=(1,1,1,1),padding='VALID')\n",
    "        y_train=np.reshape(y_train,(-1,patch_size,patch_size,4))\n",
    "        y_train=y_train.astype('float32')\n",
    "        # print(y_train.shape)\n",
    "        if d==4:\n",
    "          for i in range(y_train.shape[0]):\n",
    "            gt_t.append(y_train[i])\n",
    "            ms_pan_t.append(x_train[i])\n",
    "        else:\n",
    "          for i in range(y_train.shape[0]):\n",
    "            gt.append(y_train[i])\n",
    "            ms_pan.append(x_train[i])\n",
    "\n",
    "    return ms_pan,gt,gt_t,ms_pan_t\n",
    "\n",
    "X1_train = glob.glob(\"/content/drive/MyDrive/dataset/PAirMax/PAirMax/FR/MS_LR/*.tif\")\n",
    "X2_train = glob.glob(\"/content/drive/MyDrive/dataset/PAirMax/PAirMax/FR/PAN/*.tif\")\n",
    "y_train = glob.glob(\"/content/drive/MyDrive/dataset/PAirMax/PAirMax/GT/*.tif\")\n",
    "\n",
    "X1_train.sort()\n",
    "X2_train.sort()\n",
    "y_train.sort()\n",
    "\n",
    "x_train, y_train, x_test, y_test = get_dataset(X1_train,X2_train, y_train)\n",
    "\n",
    "x_train=np.array(x_train)\n",
    "y_train=np.array(y_train)\n",
    "print(x_train.shape)\n",
    "print(y_train.shape)\n",
    "\n",
    "x_test=np.array(x_test)\n",
    "y_test=np.array(y_test)\n",
    "print(x_test.shape)\n",
    "print(y_test.shape)"
   ]
  },
  {
   "cell_type": "code",
   "execution_count": null,
   "id": "6b8ed16e",
   "metadata": {},
   "outputs": [],
   "source": []
  }
 ],
 "metadata": {
  "kernelspec": {
   "display_name": "Python 3",
   "language": "python",
   "name": "python3"
  },
  "language_info": {
   "codemirror_mode": {
    "name": "ipython",
    "version": 3
   },
   "file_extension": ".py",
   "mimetype": "text/x-python",
   "name": "python",
   "nbconvert_exporter": "python",
   "pygments_lexer": "ipython3",
   "version": "3.8.8"
  }
 },
 "nbformat": 4,
 "nbformat_minor": 5
}
