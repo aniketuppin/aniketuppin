{
 "cells": [
  {
   "cell_type": "code",
   "execution_count": 3,
   "id": "57484f62",
   "metadata": {},
   "outputs": [],
   "source": [
    "#   ***Libraries***\n",
    "from tensorflow import keras\n",
    "import pandas as pd\n",
    "import numpy as np\n",
    "import matplotlib.pyplot as plt\n",
    "import tensorflow as tf"
   ]
  },
  {
   "cell_type": "markdown",
   "id": "c177fd3d",
   "metadata": {},
   "source": [
    "# linear model"
   ]
  },
  {
   "cell_type": "code",
   "execution_count": 4,
   "id": "b15c71d7",
   "metadata": {},
   "outputs": [],
   "source": [
    "train_df=pd.read_csv(\"C:/Users/Aniket/Downloads/neural-nets-master/neural-nets-master/examples/linear/data/train.csv\")"
   ]
  },
  {
   "cell_type": "code",
   "execution_count": 5,
   "id": "96c0fd6b",
   "metadata": {},
   "outputs": [
    {
     "name": "stdout",
     "output_type": "stream",
     "text": [
      "          x         y  color\n",
      "0  1.146728  2.233629    0.0\n",
      "1  3.676886  4.520687    0.0\n",
      "2  0.730671  1.426260    0.0\n",
      "3  1.950790  3.145987    0.0\n",
      "4  4.323010  5.320534    0.0\n"
     ]
    }
   ],
   "source": [
    "print(train_df.head())"
   ]
  },
  {
   "cell_type": "code",
   "execution_count": 6,
   "id": "f1a69c05",
   "metadata": {},
   "outputs": [],
   "source": [
    "x_train=np.column_stack((train_df.x.values,train_df.y.values))\n",
    "y_train=train_df.color.values"
   ]
  },
  {
   "cell_type": "code",
   "execution_count": 7,
   "id": "ff5899d9",
   "metadata": {},
   "outputs": [
    {
     "name": "stdout",
     "output_type": "stream",
     "text": [
      "(4000, 2)\n",
      "(4000,)\n"
     ]
    }
   ],
   "source": [
    "print(x_train.shape)\n",
    "print(y_train.shape)"
   ]
  },
  {
   "cell_type": "code",
   "execution_count": 8,
   "id": "ebb9eb5a",
   "metadata": {},
   "outputs": [
    {
     "data": {
      "text/plain": [
       "array([0., 0., 0., 0., 0., 0., 0., 0., 0., 0.])"
      ]
     },
     "execution_count": 8,
     "metadata": {},
     "output_type": "execute_result"
    }
   ],
   "source": [
    "y_train[0:10]"
   ]
  },
  {
   "cell_type": "code",
   "execution_count": 9,
   "id": "007a069f",
   "metadata": {},
   "outputs": [
    {
     "name": "stdout",
     "output_type": "stream",
     "text": [
      "Model: \"sequential\"\n",
      "_________________________________________________________________\n",
      " Layer (type)                Output Shape              Param #   \n",
      "=================================================================\n",
      " dense (Dense)               (None, 8)                 24        \n",
      "                                                                 \n",
      " dense_1 (Dense)             (None, 1)                 9         \n",
      "                                                                 \n",
      "=================================================================\n",
      "Total params: 33\n",
      "Trainable params: 33\n",
      "Non-trainable params: 0\n",
      "_________________________________________________________________\n",
      "Epoch 1/5\n",
      "1000/1000 [==============================] - 5s 2ms/step - loss: 0.3051 - accuracy: 0.9528\n",
      "Epoch 2/5\n",
      "1000/1000 [==============================] - 2s 2ms/step - loss: 0.0551 - accuracy: 0.9992\n",
      "Epoch 3/5\n",
      "1000/1000 [==============================] - 2s 2ms/step - loss: 0.0211 - accuracy: 1.0000\n",
      "Epoch 4/5\n",
      "1000/1000 [==============================] - 2s 2ms/step - loss: 0.0103 - accuracy: 1.0000\n",
      "Epoch 5/5\n",
      "1000/1000 [==============================] - 2s 2ms/step - loss: 0.0058 - accuracy: 1.0000\n",
      "evaluated results\n",
      "32/32 [==============================] - 0s 1ms/step - loss: 0.0043 - accuracy: 1.0000\n"
     ]
    },
    {
     "data": {
      "text/plain": [
       "[0.004300403408706188, 1.0]"
      ]
     },
     "execution_count": 9,
     "metadata": {},
     "output_type": "execute_result"
    }
   ],
   "source": [
    "# setting up the neural networks\n",
    "model=keras.Sequential([keras.layers.Dense(8,input_shape=(2,),activation='relu'),keras.layers.Dense(1,activation='sigmoid')])\n",
    "\n",
    "#setting optimisers and reducing loss functions\n",
    "model.compile(optimizer='adam', loss=keras.losses.BinaryCrossentropy(from_logits=False), metrics=['accuracy'])\n",
    "\n",
    "model.summary()\n",
    "#training , fitting and validating data\n",
    "model.fit(x_train,y_train,batch_size=4,epochs=5)\n",
    "\n",
    "test_df= pd.read_csv(\"C:/Users/Aniket/Downloads/neural-nets-master/neural-nets-master/examples/linear/data/test.csv\")\n",
    "test_x=np.column_stack((test_df.x.values,test_df.y.values))\n",
    "print(\"evaluated results\")\n",
    "model.evaluate(test_x,test_df.color.values)"
   ]
  },
  {
   "cell_type": "code",
   "execution_count": 10,
   "id": "89813f5f",
   "metadata": {},
   "outputs": [
    {
     "name": "stdout",
     "output_type": "stream",
     "text": [
      "32/32 [==============================] - 0s 2ms/step\n"
     ]
    }
   ],
   "source": [
    "y_prd=model.predict(test_x)"
   ]
  },
  {
   "cell_type": "markdown",
   "id": "278fafc3",
   "metadata": {},
   "source": [
    "# # for Quadratic dataset model\n"
   ]
  },
  {
   "cell_type": "code",
   "execution_count": 11,
   "id": "edce2d82",
   "metadata": {},
   "outputs": [
    {
     "name": "stdout",
     "output_type": "stream",
     "text": [
      "          x          y  color\n",
      "0 -4.956506  25.706334    0.0\n",
      "1  2.897218  10.359784    0.0\n",
      "2 -4.488273  22.113311    0.0\n",
      "3  3.823152  15.665060    0.0\n",
      "4  4.425201  21.118726    0.0\n"
     ]
    }
   ],
   "source": [
    "train_df=pd.read_csv(\"C:/Users/Aniket/Downloads/neural-nets-master/neural-nets-master/examples/quadratic/data/train.csv\")\n",
    "print(train_df.head())"
   ]
  },
  {
   "cell_type": "code",
   "execution_count": 12,
   "id": "d7b92753",
   "metadata": {},
   "outputs": [
    {
     "name": "stdout",
     "output_type": "stream",
     "text": [
      "(4000, 2)\n",
      "(4000,)\n"
     ]
    }
   ],
   "source": [
    "x_train=np.column_stack((train_df.x.values,train_df.y.values))\n",
    "y_train=train_df.color.values\n",
    "print(x_train.shape)\n",
    "print(y_train.shape)"
   ]
  },
  {
   "cell_type": "code",
   "execution_count": 13,
   "id": "ea49c637",
   "metadata": {},
   "outputs": [
    {
     "name": "stdout",
     "output_type": "stream",
     "text": [
      "Epoch 1/5\n",
      "1000/1000 [==============================] - 3s 2ms/step - loss: 0.5856 - accuracy: 0.7555\n",
      "Epoch 2/5\n",
      "1000/1000 [==============================] - 2s 2ms/step - loss: 0.4441 - accuracy: 0.8533\n",
      "Epoch 3/5\n",
      "1000/1000 [==============================] - 2s 2ms/step - loss: 0.3729 - accuracy: 0.8758\n",
      "Epoch 4/5\n",
      "1000/1000 [==============================] - 2s 2ms/step - loss: 0.3198 - accuracy: 0.9013\n",
      "Epoch 5/5\n",
      "1000/1000 [==============================] - 2s 2ms/step - loss: 0.2588 - accuracy: 0.9385\n",
      "evaluated results\n",
      "32/32 [==============================] - 0s 2ms/step - loss: 0.2219 - accuracy: 0.9780\n"
     ]
    },
    {
     "data": {
      "text/plain": [
       "[0.22190648317337036, 0.9779999852180481]"
      ]
     },
     "execution_count": 13,
     "metadata": {},
     "output_type": "execute_result"
    }
   ],
   "source": [
    "model=keras.Sequential([keras.layers.Dense(32,input_shape=(2,),activation='relu'),keras.layers.Dense(1,activation='sigmoid')])\n",
    "\n",
    "#setting optimisers and reducing loss functions\n",
    "model.compile(optimizer='adam', loss=keras.losses.BinaryCrossentropy(from_logits=False), metrics=['accuracy'])\n",
    "\n",
    "\n",
    "#training , fitting and validating data\n",
    "model.fit(x_train,y_train,batch_size=4,epochs=5)\n",
    "\n",
    "test_df= pd.read_csv(\"C:/Users/Aniket/Downloads/neural-nets-master/neural-nets-master/examples/quadratic/data/test.csv\")\n",
    "test_x=np.column_stack((test_df.x.values,test_df.y.values))\n",
    "print(\"evaluated results\")\n",
    "model.evaluate(test_x,test_df.color.values)"
   ]
  },
  {
   "cell_type": "code",
   "execution_count": 14,
   "id": "ceeb7db6",
   "metadata": {},
   "outputs": [
    {
     "name": "stdout",
     "output_type": "stream",
     "text": [
      "32/32 [==============================] - 0s 2ms/step\n"
     ]
    },
    {
     "data": {
      "text/plain": [
       "<matplotlib.collections.PathCollection at 0x229991a39a0>"
      ]
     },
     "execution_count": 14,
     "metadata": {},
     "output_type": "execute_result"
    },
    {
     "data": {
      "image/png": "[encoded data removed]",
      "text/plain": [
       "<Figure size 432x288 with 1 Axes>"
      ]
     },
     "metadata": {
      "needs_background": "light"
     },
     "output_type": "display_data"
    }
   ],
   "source": [
    "y_prd=model.predict(test_x)\n",
    "plt.scatter(y_prd,test_df.color.values)"
   ]
  },
  {
   "cell_type": "markdown",
   "id": "821efba1",
   "metadata": {},
   "source": [
    "# Clusters"
   ]
  },
  {
   "cell_type": "code",
   "execution_count": 15,
   "id": "46f1d9fb",
   "metadata": {},
   "outputs": [
    {
     "name": "stdout",
     "output_type": "stream",
     "text": [
      "(6000, 2)\n",
      "(6000,)\n"
     ]
    }
   ],
   "source": [
    "train_df=pd.read_csv(\"C:/Users/Aniket/Downloads/neural-nets-master/neural-nets-master/examples/clusters/data/train.csv\")\n",
    "\n",
    "x_train=np.column_stack((train_df.x.values,train_df.y.values))\n",
    "#print(train_df.color.unique())\n",
    "color_dict={'red': 0,'blue': 1,'green': 2,'teal': 3,'orange': 4,'purple': 5}\n",
    "train_df.color=train_df.color.apply(lambda x:color_dict[x])\n",
    "\n",
    "y_train=train_df.color.values\n",
    "#print(train_df.head())\n",
    "print(x_train.shape)\n",
    "print(y_train.shape)"
   ]
  },
  {
   "cell_type": "code",
   "execution_count": 16,
   "id": "1aeb220f",
   "metadata": {},
   "outputs": [
    {
     "name": "stdout",
     "output_type": "stream",
     "text": [
      "Epoch 1/6\n",
      "1500/1500 [==============================] - 4s 2ms/step - loss: 0.6141 - accuracy: 0.7948\n",
      "Epoch 2/6\n",
      "1500/1500 [==============================] - 3s 2ms/step - loss: 0.1871 - accuracy: 0.9460\n",
      "Epoch 3/6\n",
      "1500/1500 [==============================] - 3s 2ms/step - loss: 0.1330 - accuracy: 0.9655\n",
      "Epoch 4/6\n",
      "1500/1500 [==============================] - 3s 2ms/step - loss: 0.1109 - accuracy: 0.9687\n",
      "Epoch 5/6\n",
      "1500/1500 [==============================] - 3s 2ms/step - loss: 0.0973 - accuracy: 0.9705\n",
      "Epoch 6/6\n",
      "1500/1500 [==============================] - 3s 2ms/step - loss: 0.0889 - accuracy: 0.9740\n",
      "evaluated results\n",
      "38/38 [==============================] - 0s 2ms/step - loss: 0.0814 - accuracy: 0.9700\n"
     ]
    },
    {
     "data": {
      "text/plain": [
       "[0.08143080770969391, 0.9700000286102295]"
      ]
     },
     "execution_count": 16,
     "metadata": {},
     "output_type": "execute_result"
    }
   ],
   "source": [
    "model=keras.Sequential(([keras.layers.Dense(32,input_shape=(2,),activation='relu'),keras.layers.Dense(16,activation='relu'),\n",
    "                        keras.layers.Dense(6,activation='sigmoid')]))\n",
    "\n",
    "#setting optimisers and reducing loss functions\n",
    "model.compile(optimizer='adam', loss=keras.losses.SparseCategoricalCrossentropy(from_logits=False), metrics=['accuracy'])\n",
    "\n",
    "\n",
    "#training , fitting and validating data\n",
    "model.fit(x_train,y_train,batch_size=4,epochs=6)\n",
    "\n",
    "test_df= pd.read_csv(\"C:/Users/Aniket/Downloads/neural-nets-master/neural-nets-master/examples/clusters/data/test.csv\")\n",
    "\n",
    "color_dict={'red': 0,'blue': 1,'green': 2,'teal': 3,'orange': 4,'purple': 5}\n",
    "test_df.color=test_df.color.apply(lambda x:color_dict[x])\n",
    "test_x=np.column_stack((test_df.x.values,test_df.y.values))\n",
    "\n",
    "\n",
    "print(\"evaluated results\")\n",
    "model.evaluate(test_x,test_df.color.values)"
   ]
  },
  {
   "cell_type": "code",
   "execution_count": 17,
   "id": "1c03401b",
   "metadata": {},
   "outputs": [
    {
     "name": "stdout",
     "output_type": "stream",
     "text": [
      "1/1 [==============================] - 0s 80ms/step\n",
      "[[0. 0. 0. 0. 1. 0.]]\n"
     ]
    }
   ],
   "source": [
    "a=model.predict(np.array([[-2.5,3]]))\n",
    "print(np.round(a))"
   ]
  },
  {
   "cell_type": "markdown",
   "id": "1afe7593",
   "metadata": {},
   "source": [
    "# Complex model"
   ]
  },
  {
   "cell_type": "code",
   "execution_count": 18,
   "id": "924bfc20",
   "metadata": {},
   "outputs": [
    {
     "name": "stdout",
     "output_type": "stream",
     "text": [
      "          x         y  color\n",
      "0  2.375386 -2.151675    0.0\n",
      "1  0.155175 -3.939919    1.0\n",
      "2  0.580631 -2.425793    1.0\n",
      "3  2.045291 -2.755232    0.0\n",
      "4  0.637783 -1.396165    1.0\n",
      "(20000, 2)\n",
      "(20000,)\n"
     ]
    }
   ],
   "source": [
    "train_df=pd.read_csv(\"C:/Users/Aniket/Downloads/neural-nets-master/neural-nets-master/examples/complex/data/train.csv\")\n",
    "print(train_df.head())\n",
    "x_train=np.column_stack((train_df.x.values,train_df.y.values))\n",
    "y_train=train_df.color.values\n",
    "print(x_train.shape)\n",
    "print(y_train.shape)"
   ]
  },
  {
   "cell_type": "code",
   "execution_count": 19,
   "id": "c49da289",
   "metadata": {},
   "outputs": [
    {
     "name": "stdout",
     "output_type": "stream",
     "text": [
      "Epoch 1/10\n",
      "1250/1250 [==============================] - 6s 4ms/step - loss: 0.6055 - accuracy: 0.6530 - val_loss: 0.5508 - val_accuracy: 0.7272\n",
      "Epoch 2/10\n",
      "1250/1250 [==============================] - 4s 3ms/step - loss: 0.5263 - accuracy: 0.7414 - val_loss: 0.4706 - val_accuracy: 0.7786\n",
      "Epoch 3/10\n",
      "1250/1250 [==============================] - 5s 4ms/step - loss: 0.4716 - accuracy: 0.7781 - val_loss: 0.4428 - val_accuracy: 0.8140\n",
      "Epoch 4/10\n",
      "1250/1250 [==============================] - 4s 4ms/step - loss: 0.4449 - accuracy: 0.7882 - val_loss: 0.4256 - val_accuracy: 0.7996\n",
      "Epoch 5/10\n",
      "1250/1250 [==============================] - 5s 4ms/step - loss: 0.4219 - accuracy: 0.7992 - val_loss: 0.3775 - val_accuracy: 0.8256\n",
      "Epoch 6/10\n",
      "1250/1250 [==============================] - 5s 4ms/step - loss: 0.4029 - accuracy: 0.8108 - val_loss: 0.3634 - val_accuracy: 0.8276\n",
      "Epoch 7/10\n",
      "1250/1250 [==============================] - 4s 4ms/step - loss: 0.3896 - accuracy: 0.8158 - val_loss: 0.3498 - val_accuracy: 0.8328\n",
      "Epoch 8/10\n",
      "1250/1250 [==============================] - 5s 4ms/step - loss: 0.3741 - accuracy: 0.8245 - val_loss: 0.3170 - val_accuracy: 0.8594\n",
      "Epoch 9/10\n",
      "1250/1250 [==============================] - 4s 3ms/step - loss: 0.3583 - accuracy: 0.8313 - val_loss: 0.2957 - val_accuracy: 0.8692\n",
      "Epoch 10/10\n",
      "1250/1250 [==============================] - 4s 3ms/step - loss: 0.3404 - accuracy: 0.8408 - val_loss: 0.2977 - val_accuracy: 0.8774\n",
      "evaluated results\n",
      "157/157 [==============================] - 0s 2ms/step - loss: 0.2977 - accuracy: 0.8774\n"
     ]
    },
    {
     "data": {
      "text/plain": [
       "[0.29772794246673584, 0.8773999810218811]"
      ]
     },
     "execution_count": 19,
     "metadata": {},
     "output_type": "execute_result"
    }
   ],
   "source": [
    "test_df= pd.read_csv(\"C:/Users/Aniket/Downloads/neural-nets-master/neural-nets-master/examples/complex/data/test.csv\")\n",
    "test_x=np.column_stack((test_df.x.values,test_df.y.values))\n",
    "\n",
    "\n",
    "model=keras.Sequential(([keras.layers.Dense(256,input_shape=(2,),activation='relu'),\n",
    "                         keras.layers.Dropout(0.2),\n",
    "                         keras.layers.Dense(128,activation='relu'),\n",
    "                         keras.layers.Dropout(0.2),\n",
    "                         keras.layers.Dense(128,activation='relu'),\n",
    "                         keras.layers.Dense(1,activation='sigmoid')]))\n",
    "\n",
    "#setting optimisers and reducing loss functions\n",
    "model.compile(optimizer='adam', loss=keras.losses.BinaryCrossentropy(from_logits=False), metrics=['accuracy'])\n",
    "\n",
    "\n",
    "#training , fitting and validating data\n",
    "model.fit(x_train,y_train,batch_size=16,epochs=10,validation_data=(test_x,test_df.color.values))\n",
    "\n",
    "print(\"evaluated results\")\n",
    "model.evaluate(test_x,test_df.color.values)"
   ]
  },
  {
   "cell_type": "code",
   "execution_count": 20,
   "id": "2787474f",
   "metadata": {},
   "outputs": [
    {
     "name": "stdout",
     "output_type": "stream",
     "text": [
      "157/157 [==============================] - 0s 2ms/step\n"
     ]
    }
   ],
   "source": [
    "y_prd=model.predict(test_x)"
   ]
  },
  {
   "cell_type": "code",
   "execution_count": 21,
   "id": "123ab782",
   "metadata": {},
   "outputs": [
    {
     "name": "stdout",
     "output_type": "stream",
     "text": [
      "[[0.]\n",
      " [0.]\n",
      " [0.]\n",
      " ...\n",
      " [0.]\n",
      " [1.]\n",
      " [0.]]\n"
     ]
    }
   ],
   "source": [
    "print(np.round(y_prd))"
   ]
  },
  {
   "cell_type": "code",
   "execution_count": null,
   "id": "0ee65d8b",
   "metadata": {},
   "outputs": [],
   "source": []
  }
 ],
 "metadata": {
  "kernelspec": {
   "display_name": "Python 3",
   "language": "python",
   "name": "python3"
  },
  "language_info": {
   "codemirror_mode": {
    "name": "ipython",
    "version": 3
   },
   "file_extension": ".py",
   "mimetype": "text/x-python",
   "name": "python",
   "nbconvert_exporter": "python",
   "pygments_lexer": "ipython3",
   "version": "3.8.8"
  }
 },
 "nbformat": 4,
 "nbformat_minor": 5
}
