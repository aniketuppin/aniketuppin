{
 "cells": [
  {
   "cell_type": "markdown",
   "id": "47ab4710",
   "metadata": {},
   "source": [
    "# Work on patches\n"
   ]
  },
  {
   "cell_type": "code",
   "execution_count": null,
   "id": "9602e605",
   "metadata": {},
   "outputs": [],
   "source": [
    "# libraries needed t run\n",
    "import numpy as np\n",
    "import tensorflow as tf"
   ]
  },
  {
   "cell_type": "code",
   "execution_count": 1,
   "id": "fa06bb1e",
   "metadata": {},
   "outputs": [],
   "source": [
    "def create_patches(img,patch_size,overlap):     # pass the image ,the size of the patch needed and amount of strides\n",
    "\n",
    "    \n",
    "    m,n,c=img.shape\n",
    "    ilen=(m-patch_size)//overlap + 1\n",
    "    jlen=(n-patch_size)//overlap + 1\n",
    "    num=ilen*jlen\n",
    "    patches=np.zeros((num,patch_size,patch_size,c))\n",
    "    for i in range(ilen):\n",
    "        for j in range(jlen):\n",
    "            p=img[i*overlap:i*overlap + patch_size,j*overlap:j*overlap + patch_size,:]\n",
    "            patches[i*jlen + j,:,:,:]=p\n",
    "            \n",
    "    patches=np.array(patches)\n",
    "    return patches\n",
    "    "
   ]
  },
  {
   "cell_type": "code",
   "execution_count": 2,
   "id": "7ae47894",
   "metadata": {},
   "outputs": [],
   "source": [
    "#Merging patches\n",
    "\n",
    "def merge_patch(patches,patch_size,overlap=1):       # pass the patches and the patch_size for merging non-overlapping patches\n",
    "    num,m,n,c=patches.shape                          # the final image stitched from the patches is returned\n",
    "    N= int(num**0.5)\n",
    "    #img_rsize= ((num**0.5) -1)*overlap + patch_size \n",
    "    img_dim= N*m\n",
    "    img=np.zeros((img_dim,img_dim,c))\n",
    "    \n",
    "    for i in range(N):\n",
    "        i_st =i*patch_size\n",
    "        i_end= i_st +patch_size\n",
    "        for j  in range(N):\n",
    "            j_st =j*patch_size\n",
    "            j_end= j_st +patch_size\n",
    "            img[i_st:i_end,j_st:j_end,:]=patches[i*N +j,:,:,:]\n",
    "    print(img.shape)\n",
    "    return img"
   ]
  },
  {
   "cell_type": "code",
   "execution_count": null,
   "id": "deabd393",
   "metadata": {},
   "outputs": [],
   "source": [
    "# Model Prediction from the patches\n",
    "\n",
    "def predict_patch(x_test):\n",
    "    num,m,n,c=x_test.shape\n",
    "    pred=[]\n",
    "    for i in range(num):\n",
    "        p= model.predict(x_test[i,:,:,:])\n",
    "        pred.append(p)\n",
    "    pred=np.array(pred)\n",
    "    return pred"
   ]
  }
 ],
 "metadata": {
  "kernelspec": {
   "display_name": "Python 3",
   "language": "python",
   "name": "python3"
  },
  "language_info": {
   "codemirror_mode": {
    "name": "ipython",
    "version": 3
   },
   "file_extension": ".py",
   "mimetype": "text/x-python",
   "name": "python",
   "nbconvert_exporter": "python",
   "pygments_lexer": "ipython3",
   "version": "3.8.8"
  }
 },
 "nbformat": 4,
 "nbformat_minor": 5
}
