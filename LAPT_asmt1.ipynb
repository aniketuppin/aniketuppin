{
 "cells": [
  {
   "cell_type": "code",
   "execution_count": 1,
   "id": "e81cc671",
   "metadata": {},
   "outputs": [
    {
     "name": "stdout",
     "output_type": "stream",
     "text": [
      "[ 1  2  3  4  5  6  7  8  9 10 11 12 13 14 15 16]\n",
      "a(4x4):\n",
      "[[ 1  2  3  4]\n",
      " [ 5  6  7  8]\n",
      " [ 9 10 11 12]\n",
      " [13 14 15 16]]\n"
     ]
    }
   ],
   "source": [
    "import numpy as np\n",
    "a=np.arange(1,17)\n",
    "print(a)\n",
    "a=np.reshape(a,(4,4))\n",
    "print (\"a(4x4):\")\n",
    "print(a)"
   ]
  },
  {
   "cell_type": "code",
   "execution_count": 2,
   "id": "94855d58",
   "metadata": {},
   "outputs": [],
   "source": [
    "def swapp(x,y):\n",
    "    temp=x\n",
    "    x=y\n",
    "    y=temp\n",
    "    return x,y\n",
    "\n",
    "def transposing(a):\n",
    "    for i in range(a.shape[0]):\n",
    "        for j in range(i+1,a.shape[1]):\n",
    "            a[i][j],a[j][i]=swapp(a[i][j],a[j][i])         \n",
    "    return a"
   ]
  },
  {
   "cell_type": "code",
   "execution_count": 3,
   "id": "f821908a",
   "metadata": {},
   "outputs": [
    {
     "data": {
      "text/plain": [
       "array([[ 1,  5,  9, 13],\n",
       "       [ 2,  6, 10, 14],\n",
       "       [ 3,  7, 11, 15],\n",
       "       [ 4,  8, 12, 16]])"
      ]
     },
     "execution_count": 3,
     "metadata": {},
     "output_type": "execute_result"
    }
   ],
   "source": [
    "transposing(a)\n",
    "a"
   ]
  },
  {
   "cell_type": "code",
   "execution_count": 4,
   "id": "8644d68a",
   "metadata": {},
   "outputs": [
    {
     "name": "stdout",
     "output_type": "stream",
     "text": [
      "the array b is:\n",
      "[[ 1  0  0  0]\n",
      " [ 2  6  0  0]\n",
      " [ 3  7 11  0]\n",
      " [ 4  8 12 16]]\n",
      "\n",
      "This matrix is a lower triangular matrix\n",
      "\n",
      "the transposed matrix of b is:\n",
      "[[ 1  2  3  4]\n",
      " [ 0  6  7  8]\n",
      " [ 0  0 11 12]\n",
      " [ 0  0  0 16]]\n",
      "\n",
      "This matrix is a upper triangular matrix\n"
     ]
    }
   ],
   "source": [
    "b=a\n",
    "for i in range (a.shape[0]):\n",
    "    for j in range(i+1,a.shape[1]):\n",
    "        b[i][j]=0\n",
    "print(\"the array b is:\")\n",
    "print(b)\n",
    "print(\"\\nThis matrix is a lower triangular matrix\")\n",
    "\n",
    "transposing(b)\n",
    "print(\"\\nthe transposed matrix of b is:\")\n",
    "print(b)\n",
    "print(\"\\nThis matrix is a upper triangular matrix\")"
   ]
  },
  {
   "cell_type": "code",
   "execution_count": 5,
   "id": "65ab74a6",
   "metadata": {},
   "outputs": [
    {
     "name": "stdout",
     "output_type": "stream",
     "text": [
      "the transpose of b^T is :\n",
      "[[ 1  0  0  0]\n",
      " [ 2  6  0  0]\n",
      " [ 3  7 11  0]\n",
      " [ 4  8 12 16]]\n",
      "This matrix is again a lower triangular matrix\n",
      "So when we take a transpose of the transposed matrix(which was upper triangular) we again obtain a lower triangular matrix\n"
     ]
    }
   ],
   "source": [
    "c=b\n",
    "transposing(c)\n",
    "print(\"the transpose of b^T is :\")\n",
    "print(c)\n",
    "print(\"This matrix is again a lower triangular matrix\")\n",
    "print(\"So when we take a transpose of the transposed matrix(which was upper triangular) we again obtain a lower triangular matrix\")"
   ]
  },
  {
   "cell_type": "code",
   "execution_count": null,
   "id": "ba0f2dae",
   "metadata": {},
   "outputs": [],
   "source": []
  }
 ],
 "metadata": {
  "kernelspec": {
   "display_name": "Python 3",
   "language": "python",
   "name": "python3"
  },
  "language_info": {
   "codemirror_mode": {
    "name": "ipython",
    "version": 3
   },
   "file_extension": ".py",
   "mimetype": "text/x-python",
   "name": "python",
   "nbconvert_exporter": "python",
   "pygments_lexer": "ipython3",
   "version": "3.8.8"
  }
 },
 "nbformat": 4,
 "nbformat_minor": 5
}
