{
 "cells": [
  {
   "cell_type": "code",
   "execution_count": 4,
   "id": "4940b89c",
   "metadata": {},
   "outputs": [],
   "source": [
    "# *******Libraries*******\n",
    "import numpy as np\n",
    "import matplotlib.pyplot as plt"
   ]
  },
  {
   "cell_type": "markdown",
   "id": "9fb1a336",
   "metadata": {},
   "source": [
    "linear convolution"
   ]
  },
  {
   "cell_type": "code",
   "execution_count": 16,
   "id": "a869ac9a",
   "metadata": {},
   "outputs": [
    {
     "name": "stdout",
     "output_type": "stream",
     "text": [
      "full convolution result:\n",
      "[0 0 0 1 2 3 2 0 0 0 0 0 0 0 0 0]\n",
      "same convoluted result\n"
     ]
    },
    {
     "data": {
      "text/plain": [
       "array([0, 1, 2, 3, 2, 0, 0, 0])"
      ]
     },
     "execution_count": 16,
     "metadata": {},
     "output_type": "execute_result"
    }
   ],
   "source": [
    "x=np.array([0,0,0,1,0,0,0,0]) \n",
    "m=len(x)\n",
    "h=np.array([1,2,3,2,0]) \n",
    "n=len(h)\n",
    "\n",
    "h=h.reshape(1,n)\n",
    "h=np.fliplr(h)\n",
    "#print(h)\n",
    "\n",
    "y=np.zeros((m+2*(n-1)) ,dtype=int)\n",
    "X=np.zeros((m+2*(n-1)) ,dtype=int)\n",
    "X[n-1:n-1+m] = x\n",
    "\n",
    "for i in range(len(X)-n):\n",
    "    y[i]= np.dot(h,X[i:i+n])\n",
    "    \n",
    "print(\"full convolution result:\")\n",
    "print(y)\n",
    "\n",
    "print('same convoluted result')\n",
    "same=y[(n-1)//2:(n-1)//2+m]\n",
    "same"
   ]
  },
  {
   "cell_type": "code",
   "execution_count": 5,
   "id": "a07fb05f",
   "metadata": {},
   "outputs": [],
   "source": [
    "# defining the filter/kernel  and the input\n",
    "w=np.array([[1,2,3],\n",
    "            [4,5,6],\n",
    "            [7,8,9]])\n",
    "f=np.array([[0,0,0,0,0],\n",
    "            [0,0,0,0,0],\n",
    "            [0,0,1,0,0],\n",
    "            [0,0,0,0,0],\n",
    "            [0,0,0,0,0]])"
   ]
  },
  {
   "cell_type": "code",
   "execution_count": 6,
   "id": "40def110",
   "metadata": {},
   "outputs": [],
   "source": [
    "# Image rotation by 180 degrees\n",
    "\n",
    "def rot(img):\n",
    "    img=img.T\n",
    "    m,n=img.shape\n",
    "    for i in range(m):\n",
    "        for j in range(n//2):\n",
    "            temp=img[i][j]\n",
    "            img[i][j]=img[i][n-1-j]\n",
    "            img[i][n-1-j]=temp\n",
    "    return img"
   ]
  },
  {
   "cell_type": "markdown",
   "id": "81c9ba90",
   "metadata": {},
   "source": [
    "Function for 2-D 'full' and 'same' convolution"
   ]
  },
  {
   "cell_type": "code",
   "execution_count": 7,
   "id": "58786310",
   "metadata": {},
   "outputs": [],
   "source": [
    "def  convn(f,w,conv_type):\n",
    "    r,c=w.shape\n",
    "    R,C=f.shape\n",
    "\n",
    "    #flipping filter f by 180 for convolution\n",
    "    w=np.flipud(w)\n",
    "    w=np.fliplr(w)\n",
    "    #w=rot(w)\n",
    "\n",
    "    #creating empty output array \n",
    "    \n",
    "    F=np.zeros((R+2*(r-1),C+2*(c-1)),dtype=int)\n",
    "    out=np.zeros((R+2*(r-1),C+2*(c-1)),dtype=int)\n",
    "    F[r-1:R+r-1,c-1:C+c-1]=f  #zero padding f  \n",
    "\n",
    "    \n",
    "    print(\"shape of final matrix: \"+ str(out.shape))\n",
    "\n",
    "    for i in range(out.shape[0]-r):\n",
    "        for j in range(out.shape[1]-c):\n",
    "            out[i+(r-1)//2][j+(c-1)//2]= np.sum(w * F[i:i+r,j:j+c])\n",
    "    if conv_type ==\"full\" :       \n",
    "        print('full 2-D convolution')\n",
    "        return out    # full parameter \n",
    "        \n",
    "    elif conv_type ==\"same\" :\n",
    "        print('same 2-D convolution')\n",
    "        same=out[r-1:R+r-1,c-1:C+c-1]\n",
    "        return same\n",
    "    "
   ]
  },
  {
   "cell_type": "markdown",
   "id": "9cc5b318",
   "metadata": {},
   "source": [
    "Function for Valid convolution"
   ]
  },
  {
   "cell_type": "code",
   "execution_count": 14,
   "id": "0e162591",
   "metadata": {},
   "outputs": [],
   "source": [
    "def valid_conv(x,h):\n",
    "    M,N=x.shape\n",
    "    m,n=h.shape\n",
    "    \n",
    "    h=np.flipud(h)\n",
    "    h=np.fliplr(h)\n",
    "\n",
    "    \n",
    "    out=np.zeros((M-m+1,N-n+1))\n",
    "    print(\"shape of final matrix\" ,out.shape)\n",
    "    for i in range(out.shape[0]):\n",
    "        for j in range(out.shape[1]):\n",
    "#             out[i+((m-1)//2)][j+((n-1)//2)] = x[i:i+m,j:j+n,:]*h\n",
    "              out[i][j] = np.sum(h*x[i:i+m,j:j+n])\n",
    "    out=out.astype(\"uint8\")\n",
    "    print(\"valid convolution: \")\n",
    "    print(out)"
   ]
  },
  {
   "cell_type": "markdown",
   "id": "30ebc677",
   "metadata": {},
   "source": [
    "Running the functions to find results"
   ]
  },
  {
   "cell_type": "code",
   "execution_count": 9,
   "id": "03d1f63f",
   "metadata": {},
   "outputs": [
    {
     "name": "stdout",
     "output_type": "stream",
     "text": [
      "shape of final matrix: (9, 9)\n",
      "full 2-D convolution\n",
      "[[0 0 0 0 0 0 0 0 0]\n",
      " [0 0 0 0 0 0 0 0 0]\n",
      " [0 0 0 0 0 0 0 0 0]\n",
      " [0 0 0 1 2 3 0 0 0]\n",
      " [0 0 0 4 5 6 0 0 0]\n",
      " [0 0 0 7 8 9 0 0 0]\n",
      " [0 0 0 0 0 0 0 0 0]\n",
      " [0 0 0 0 0 0 0 0 0]\n",
      " [0 0 0 0 0 0 0 0 0]]\n"
     ]
    }
   ],
   "source": [
    "out=convn(f,w,\"full\")\n",
    "print(out)"
   ]
  },
  {
   "cell_type": "code",
   "execution_count": 10,
   "id": "c4b3aa9f",
   "metadata": {},
   "outputs": [
    {
     "name": "stdout",
     "output_type": "stream",
     "text": [
      "shape of final matrix: (9, 9)\n",
      "same 2-D convolution\n",
      "[[0 0 0 0 0]\n",
      " [0 1 2 3 0]\n",
      " [0 4 5 6 0]\n",
      " [0 7 8 9 0]\n",
      " [0 0 0 0 0]]\n"
     ]
    }
   ],
   "source": [
    "out=convn(f,w,\"same\")\n",
    "print(out)"
   ]
  },
  {
   "cell_type": "code",
   "execution_count": 15,
   "id": "682f85e5",
   "metadata": {},
   "outputs": [
    {
     "name": "stdout",
     "output_type": "stream",
     "text": [
      "shape of final matrix (3, 3)\n",
      "valid convolution: \n",
      "[[1 2 3]\n",
      " [4 5 6]\n",
      " [7 8 9]]\n"
     ]
    }
   ],
   "source": [
    "valid_conv(f,w)"
   ]
  },
  {
   "cell_type": "markdown",
   "id": "f68de6ee",
   "metadata": {},
   "source": [
    "### 3-D Convolution of image with filter +bias\n"
   ]
  },
  {
   "cell_type": "code",
   "execution_count": null,
   "id": "8c0f6ffb",
   "metadata": {},
   "outputs": [],
   "source": [
    "def zero_pad(X, pad):\n",
    "    \"\"\"\n",
    "    Pad with zeros all images of the dataset X. The padding is applied to the height and width of an image, \n",
    "    as illustrated in Figure 1.\n",
    "    \n",
    "    Argument:\n",
    "    X -- python numpy array of shape (m, n_H, n_W, n_C) representing a batch of m images\n",
    "    pad -- integer, amount of padding around each image on vertical and horizontal dimensions\n",
    "    \n",
    "    Returns:\n",
    "    X_pad -- padded image of shape (m, n_H + 2 * pad, n_W + 2 * pad, n_C)\n",
    "    \"\"\"\n",
    "    \n",
    "    #(≈ 1 line)\n",
    "    # X_pad = None\n",
    "    # YOUR CODE STARTS HERE\n",
    "    #print(X)\n",
    "    X_pad=np.pad(X,((0,0),(pad,pad),(pad,pad),(0,0)),mode='constant',constant_values=(0,0))\n",
    "    \n",
    "    # YOUR CODE ENDS HERE\n",
    "    \n",
    "    return X_pad"
   ]
  },
  {
   "cell_type": "code",
   "execution_count": null,
   "id": "d400537a",
   "metadata": {},
   "outputs": [],
   "source": [
    "def conv_forward(A_prev, W, b, hparameters):\n",
    "    \"\"\"\n",
    "    Implements the forward propagation for a convolution function\n",
    "    \n",
    "    Arguments:\n",
    "    A_prev -- output activations of the previous layer, \n",
    "        numpy array of shape (m, n_H_prev, n_W_prev, n_C_prev)\n",
    "    W -- Weights, numpy array of shape (f, f, n_C_prev, n_C)\n",
    "    b -- Biases, numpy array of shape (1, 1, 1, n_C)\n",
    "    hparameters -- python dictionary containing \"stride\" and \"pad\"\n",
    "        \n",
    "    Returns:\n",
    "    Z -- conv output, numpy array of shape (m, n_H, n_W, n_C)\n",
    "    cache -- cache of values needed for the conv_backward() function\n",
    "    \"\"\"\n",
    "    \n",
    "    # Retrieve dimensions from A_prev's shape (≈1 line)  \n",
    "    # (m, n_H_prev, n_W_prev, n_C_prev) = None\n",
    "    \n",
    "    # Retrieve dimensions from W's shape (≈1 line)\n",
    "    # (f, f, n_C_prev, n_C) = None\n",
    "    \n",
    "    # Retrieve information from \"hparameters\" (≈2 lines)\n",
    "    # stride = None\n",
    "    # pad = None\n",
    "    \n",
    "    # Compute the dimensions of the CONV output volume using the formula given above. \n",
    "    # Hint: use int() to apply the 'floor' operation. (≈2 lines)\n",
    "    # n_H = None\n",
    "    # n_W = None\n",
    "    \n",
    "    # Initialize the output volume Z with zeros. (≈1 line)\n",
    "    # Z = None\n",
    "    \n",
    "    # Create A_prev_pad by padding A_prev\n",
    "    # A_prev_pad = None\n",
    "    \n",
    "    # for i in range(None):               # loop over the batch of training examples\n",
    "        # a_prev_pad = None               # Select ith training example's padded activation\n",
    "        # for h in range(None):           # loop over vertical axis of the output volume\n",
    "            # Find the vertical start and end of the current \"slice\" (≈2 lines)\n",
    "            # vert_start = None\n",
    "            # vert_end = None\n",
    "            \n",
    "            # for w in range(None):       # loop over horizontal axis of the output volume\n",
    "                # Find the horizontal start and end of the current \"slice\" (≈2 lines)\n",
    "                # horiz_start = None\n",
    "                # horiz_end = None\n",
    "                \n",
    "                # for c in range(None):   # loop over channels (= #filters) of the output volume\n",
    "                                        \n",
    "                    # Use the corners to define the (3D) slice of a_prev_pad (See Hint above the cell). (≈1 line)\n",
    "                    # a_slice_prev = None\n",
    "                    \n",
    "                    # Convolve the (3D) slice with the correct filter W and bias b, to get back one output neuron. (≈3 line)\n",
    "                    # weights = None\n",
    "                    # biases = None\n",
    "                    # Z[i, h, w, c] = None\n",
    "    # YOUR CODE STARTS HERE\n",
    "    (m,n_H_prev,n_W_prev,n_C_prev)= A_prev.shape\n",
    "    (f,f,n_C_prev,n_C)=W.shape\n",
    "    s=hparameters[\"stride\"]\n",
    "    p=hparameters[\"pad\"]\n",
    "    n_H = int((n_H_prev + 2*p - f)/s) +1 \n",
    "    n_W = int((n_W_prev + 2*p - f)/s) +1\n",
    "    A=zero_pad(A_prev, p)\n",
    "    print(A.shape)\n",
    "    \n",
    "    Z=np.zeros((m,n_H,n_W,n_C))\n",
    "    for n in range(m):\n",
    "        #A= np.zeros((n_H_prev +2*p,n_W_prev +2*p ,n_C_prev))\n",
    "        \n",
    "        #print(A.shape)\n",
    "        #A[p:p+n_H_prev,p:p+n_W_prev,:]=A_prev[n,:,:,:]\n",
    "        for k in range(n_C):\n",
    "            for i in range(n_H):\n",
    "                i_st=i*s ; i_end=i*s+f\n",
    "                for j in range(n_W):\n",
    "                    j_st=j*s ;j_end=j*s+f\n",
    "                    Z[n,i,j,k]=np.sum(A[n,i_st:i_end,j_st:j_end,:]*W[:,:,:,k]) + b[:,:,:,k]               \n",
    "\n",
    "    print(Z)        "
   ]
  },
  {
   "cell_type": "code",
   "execution_count": null,
   "id": "947d1fbb",
   "metadata": {},
   "outputs": [],
   "source": [
    "np.random.seed(1)\n",
    "A_prev = np.random.randn(2, 5, 7, 4)\n",
    "W = np.random.randn(3, 3, 4, 8)\n",
    "b = np.random.randn(1, 1, 1, 8)\n",
    "hparameters = {\"pad\" : 1,\n",
    "               \"stride\": 2}\n",
    "\n",
    "Z, cache_conv = conv_forward(A_prev, W, b, hparameters)\n",
    "z_mean = np.mean(Z)"
   ]
  },
  {
   "cell_type": "code",
   "execution_count": null,
   "id": "9e67ae79",
   "metadata": {},
   "outputs": [],
   "source": [
    "def pool_forward(A_prev, hparameters, mode = \"max\"):\n",
    "    \"\"\"\n",
    "    Implements the forward pass of the pooling layer\n",
    "    \n",
    "    Arguments:\n",
    "    A_prev -- Input data, numpy array of shape (m, n_H_prev, n_W_prev, n_C_prev)\n",
    "    hparameters -- python dictionary containing \"f\" and \"stride\"\n",
    "    mode -- the pooling mode you would like to use, defined as a string (\"max\" or \"average\")\n",
    "    \n",
    "    Returns:\n",
    "    A -- output of the pool layer, a numpy array of shape (m, n_H, n_W, n_C)\n",
    "    cache -- cache used in the backward pass of the pooling layer, contains the input and hparameters \n",
    "    \"\"\"\n",
    "    \n",
    "    # Retrieve dimensions from the input shape\n",
    "    (m, n_H_prev, n_W_prev, n_C_prev) = A_prev.shape\n",
    "    \n",
    "    # Retrieve hyperparameters from \"hparameters\"\n",
    "    f = hparameters[\"f\"]\n",
    "    stride = hparameters[\"stride\"]\n",
    "    \n",
    "    # Define the dimensions of the output\n",
    "    n_H = int(1 + (n_H_prev - f) / stride)\n",
    "    n_W = int(1 + (n_W_prev - f) / stride)\n",
    "    n_C = n_C_prev\n",
    "    \n",
    "    # Initialize output matrix A\n",
    "    A = np.zeros((m, n_H, n_W, n_C))              \n",
    "    print(A.shape)\n",
    "    # for i in range(None):                         # loop over the training examples\n",
    "        # for h in range(None):                     # loop on the vertical axis of the output volume\n",
    "            # Find the vertical start and end of the current \"slice\" (≈2 lines)\n",
    "            # vert_start = None\n",
    "            # vert_end = None\n",
    "            \n",
    "            # for w in range(None):                 # loop on the horizontal axis of the output volume\n",
    "                # Find the vertical start and end of the current \"slice\" (≈2 lines)\n",
    "                # horiz_start = None\n",
    "                # horiz_end = None\n",
    "                \n",
    "                # for c in range (None):            # loop over the channels of the output volume\n",
    "                    \n",
    "                    # Use the corners to define the current slice on the ith training example of A_prev, channel c. (≈1 line)\n",
    "                    # a_prev_slice = None\n",
    "                    \n",
    "                    # Compute the pooling operation on the slice. \n",
    "                    # Use an if statement to differentiate the modes. \n",
    "                    # Use np.max and np.mean.\n",
    "                    # if mode == \"max\":\n",
    "                        # A[i, h, w, c] = None\n",
    "                    # elif mode == \"average\":\n",
    "                        # A[i, h, w, c] = None\n",
    "    \n",
    "    # YOUR CODE STARTS HERE\n",
    "    for n in range(m):\n",
    "        for k in range(n_C):\n",
    "            for i in range(n_H):\n",
    "                i_st= i*stride\n",
    "                i_end= i_st + f\n",
    "                for j in range(n_W):\n",
    "                    j_st=j*stride\n",
    "                    j_end=j_st + f\n",
    "                    if mode==\"max\":\n",
    "                        A[n][i][j][k]= np.max(A_prev[n,i_st:i_end,j_st:j_end,k])\n",
    "                    elif mode==\"average\":\n",
    "                        A[n][i][j][k]= np.mean(A_prev[n,i_st:i_end,j_st:j_end,k])\n",
    "\n",
    "    "
   ]
  }
 ],
 "metadata": {
  "kernelspec": {
   "display_name": "Python 3",
   "language": "python",
   "name": "python3"
  },
  "language_info": {
   "codemirror_mode": {
    "name": "ipython",
    "version": 3
   },
   "file_extension": ".py",
   "mimetype": "text/x-python",
   "name": "python",
   "nbconvert_exporter": "python",
   "pygments_lexer": "ipython3",
   "version": "3.8.8"
  }
 },
 "nbformat": 4,
 "nbformat_minor": 5
}
